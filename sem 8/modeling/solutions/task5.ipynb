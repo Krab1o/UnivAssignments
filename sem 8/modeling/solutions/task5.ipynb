{
 "cells": [
  {
   "cell_type": "code",
   "execution_count": null,
   "metadata": {},
   "outputs": [],
   "source": [
    "import numpy as np\n",
    "\n",
    "# Параметры задачи\n",
    "mean_lifetime = 100  # Средняя длительность безотказной работы (в часах)\n",
    "std_lifetime = 15    # Стандартное отклонение длительности (в часах)\n",
    "num_trials = 1000    # Количество испытаний\n",
    "\n",
    "# Функция моделирования одного испытания\n",
    "def simulate_failure_times():\n",
    "    lifetimes = np.random.normal(mean_lifetime, std_lifetime, 3)  # Длительности работы элементов\n",
    "    lifetimes.sort()  # Сортировка по возрастанию времени отказа\n",
    "    return lifetimes\n",
    "\n",
    "# Проведение испытаний\n",
    "first_failures = []\n",
    "second_failures = []\n",
    "third_failures = []\n",
    "\n",
    "for _ in range(num_trials):\n",
    "    lifetimes = simulate_failure_times()\n",
    "    first_failures.append(lifetimes[0])\n",
    "    second_failures.append(lifetimes[1])\n",
    "    third_failures.append(lifetimes[2])\n",
    "\n",
    "# Расчет математических ожиданий\n",
    "mean_first_failure = np.mean(first_failures)\n",
    "mean_second_failure = np.mean(second_failures)\n",
    "mean_third_failure = np.mean(third_failures)\n",
    "\n",
    "# Вывод результатов\n",
    "print(f\"Математическое ожидание длительности работы элемента, отказавшего первым: {mean_first_failure:.2f}\")\n",
    "print(f\"Математическое ожидание длительности работы элемента, отказавшего вторым: {mean_second_failure:.2f}\")\n",
    "print(f\"Математическое ожидание длительности работы элемента, отказавшего третьим: {mean_third_failure:.2f}\")\n"
   ]
  }
 ],
 "metadata": {
  "kernelspec": {
   "display_name": ".venv",
   "language": "python",
   "name": "python3"
  },
  "language_info": {
   "name": "python",
   "version": "3.13.1"
  }
 },
 "nbformat": 4,
 "nbformat_minor": 2
}
