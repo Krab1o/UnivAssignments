{
 "cells": [
  {
   "cell_type": "code",
   "execution_count": null,
   "metadata": {},
   "outputs": [],
   "source": [
    "import numpy as np\n",
    "\n",
    "# Параметры задачи\n",
    "time_range = 24  # Длительность суток (в часах)\n",
    "ship1_stay = 1  # Время стоянки первого парохода (в часах)\n",
    "ship2_stay = 2  # Время стоянки второго парохода (в часах)\n",
    "num_trials = 100000  # Количество статистических испытаний\n",
    "\n",
    "# Функция для проверки пересечения интервалов\n",
    "def intervals_overlap(start1, duration1, start2, duration2):\n",
    "    end1 = start1 + duration1\n",
    "    end2 = start2 + duration2\n",
    "    return not (end1 <= start2 or end2 <= start1)\n",
    "\n",
    "# Проведение статистических испытаний\n",
    "conflict_count = 0\n",
    "for _ in range(num_trials):\n",
    "    arrival1 = np.random.uniform(0, time_range)  # Время прихода первого парохода\n",
    "    arrival2 = np.random.uniform(0, time_range)  # Время прихода второго парохода\n",
    "    if intervals_overlap(arrival1, ship1_stay, arrival2, ship2_stay):\n",
    "        conflict_count += 1\n",
    "\n",
    "# Оценка вероятности\n",
    "probability = conflict_count / num_trials\n",
    "\n",
    "# Вывод результата\n",
    "print(f\"Оцененная вероятность ожидания: {probability:.4f}\")"
   ]
  }
 ],
 "metadata": {
  "kernelspec": {
   "display_name": ".venv",
   "language": "python",
   "name": "python3"
  },
  "language_info": {
   "name": "python",
   "version": "3.13.1"
  }
 },
 "nbformat": 4,
 "nbformat_minor": 2
}
