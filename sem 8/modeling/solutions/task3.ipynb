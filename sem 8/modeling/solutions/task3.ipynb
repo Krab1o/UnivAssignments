{
 "cells": [
  {
   "cell_type": "code",
   "execution_count": 6,
   "metadata": {},
   "outputs": [
    {
     "name": "stdout",
     "output_type": "stream",
     "text": [
      "Оценка математического ожидания числа дней до первого пополнения: 4.64\n"
     ]
    }
   ],
   "source": [
    "import numpy as np\n",
    "\n",
    "# Условия задачи\n",
    "probabilities = [0.2, 0.3, 0.4, 0.1]  # Вероятности запросов\n",
    "requests = [0, 1, 2, 3]  # Возможные запросы\n",
    "initial_stock = 8  # Начальный запас деталей\n",
    "threshold = 2  # Порог для пополнения\n",
    "num_trials = 1000  # Количество испытаний\n",
    "\n",
    "# Функция для одного испытания\n",
    "def simulate_single_trial():\n",
    "    stock = initial_stock\n",
    "    days = 0\n",
    "    while stock > threshold:\n",
    "        daily_request = np.random.choice(requests, p=probabilities)\n",
    "        stock -= daily_request\n",
    "        stock = max(stock, 0)  # Запас не может быть отрицательным\n",
    "        days += 1\n",
    "    return days\n",
    "\n",
    "# Проведение испытаний\n",
    "results = [simulate_single_trial() for _ in range(num_trials)]\n",
    "\n",
    "# Расчет математического ожидания\n",
    "expected_days = np.mean(results)\n",
    "\n",
    "# Вывод результата\n",
    "print(f\"Оценка математического ожидания числа дней до первого пополнения: {expected_days:.2f}\")\n"
   ]
  }
 ],
 "metadata": {
  "kernelspec": {
   "display_name": ".venv",
   "language": "python",
   "name": "python3"
  },
  "language_info": {
   "codemirror_mode": {
    "name": "ipython",
    "version": 3
   },
   "file_extension": ".py",
   "mimetype": "text/x-python",
   "name": "python",
   "nbconvert_exporter": "python",
   "pygments_lexer": "ipython3",
   "version": "3.13.1"
  }
 },
 "nbformat": 4,
 "nbformat_minor": 2
}
