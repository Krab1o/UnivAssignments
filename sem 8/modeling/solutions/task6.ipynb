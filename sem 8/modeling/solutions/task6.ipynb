{
 "cells": [
  {
   "cell_type": "code",
   "execution_count": 11,
   "metadata": {},
   "outputs": [
    {
     "name": "stdout",
     "output_type": "stream",
     "text": [
      "Математическое ожидание времени жизни системы: 299.62\n",
      "Математическое ожидание времени жизни системы до отказа второго основного элемента: 149.10\n"
     ]
    }
   ],
   "source": [
    "import numpy as np\n",
    "\n",
    "# Параметры задачи\n",
    "mean_lifetime_main = 100  # Средняя длительность безотказной работы основных элементов (в часах)\n",
    "mean_lifetime_reserve = 150  # Средняя длительность безотказной работы резервного элемента (в часах)\n",
    "num_trials = 1000  # Количество испытаний\n",
    "\n",
    "# Функция моделирования одного испытания\n",
    "def simulate_system_lifetime():\n",
    "    # Время жизни основных и резервного элементов\n",
    "    main1 = np.random.exponential(mean_lifetime_main)\n",
    "    main2 = np.random.exponential(mean_lifetime_main)\n",
    "    reserve = np.random.exponential(mean_lifetime_reserve)\n",
    "\n",
    "    # Время отказа второго основного элемента\n",
    "    second_main_failure = max(main1, main2)\n",
    "\n",
    "    # Время жизни системы\n",
    "    system_lifetime = second_main_failure + reserve\n",
    "\n",
    "    return system_lifetime, second_main_failure\n",
    "\n",
    "# Проведение испытаний\n",
    "system_lifetimes = []\n",
    "second_main_failures = []\n",
    "\n",
    "for _ in range(num_trials):\n",
    "    system_lifetime, second_main_failure = simulate_system_lifetime()\n",
    "    system_lifetimes.append(system_lifetime)\n",
    "    second_main_failures.append(second_main_failure)\n",
    "\n",
    "# Расчет математических ожиданий\n",
    "mean_system_lifetime = np.mean(system_lifetimes)\n",
    "mean_second_main_failure = np.mean(second_main_failures)\n",
    "\n",
    "# Вывод результатов\n",
    "print(f\"Математическое ожидание времени жизни системы: {mean_system_lifetime:.2f}\")\n",
    "print(f\"Математическое ожидание времени жизни системы до отказа второго основного элемента: {mean_second_main_failure:.2f}\")\n"
   ]
  }
 ],
 "metadata": {
  "kernelspec": {
   "display_name": ".venv",
   "language": "python",
   "name": "python3"
  },
  "language_info": {
   "codemirror_mode": {
    "name": "ipython",
    "version": 3
   },
   "file_extension": ".py",
   "mimetype": "text/x-python",
   "name": "python",
   "nbconvert_exporter": "python",
   "pygments_lexer": "ipython3",
   "version": "3.13.1"
  }
 },
 "nbformat": 4,
 "nbformat_minor": 2
}
